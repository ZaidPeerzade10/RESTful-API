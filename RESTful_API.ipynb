{
  "nbformat": 4,
  "nbformat_minor": 0,
  "metadata": {
    "colab": {
      "provenance": []
    },
    "kernelspec": {
      "name": "python3",
      "display_name": "Python 3"
    },
    "language_info": {
      "name": "python"
    }
  },
  "cells": [
    {
      "cell_type": "markdown",
      "source": [
        "# Theory Questions"
      ],
      "metadata": {
        "id": "R5xrvu_EhkaG"
      }
    },
    {
      "cell_type": "markdown",
      "source": [
        "1. What is a RESTful API?\n",
        "  - A RESTful API is an HTTP-based web service that adheres to REST principles, enabling client-server communication by standard HTTP methods.\n",
        "  - It is stateless because every request holds all relevant information and doesn't rely on other requests.\n",
        "  - Standard methods such as GET, POST, PUT, and DELETE are used by RESTful APIs to manipulate resources.\n",
        "  - They are popular because they are simple, scalable, and support multiple platforms.\n",
        "\n",
        "2. Explain the concept of API specification.\n",
        "  - API specification outlines how an API must function, such as available endpoints, request and response data formats, authentication, and error handling.\n",
        "  - It serves as a contract between API consumers and providers to ensure interactions are consistent.\n",
        "  - Popular API specification formats are OpenAPI, RAML, and API Blueprint.\n",
        "  - A properly defined API specification enhances documentation, testing, and collaboration between developers.\n",
        "\n",
        "3. What is Flask, and why is it popular for building APIs?\n",
        "  - Flask is a lightweight Python web framework to create web applications and APIs.\n",
        "  - It is so because it is easy to use, versatile, and requires no setup. Flask offers basic tools such as routing, request handling, and template rendering without imposing too much structure.\n",
        "  - Its modular nature makes it easy for users to employ extensions such as Flask-RESTful and Flask-SQLAlchemy to add functionality.\n",
        "\n",
        "4. What is routing in Flask?\n",
        "  - Routing in Flask maps URLs to precise functions which take care of requests and respond back.\n",
        "  - It makes it easier for developers to define various endpoints of the API, like `/users` for getting users or `/products` for getting products.\n",
        "  - Flask supplies the `@app.route()` decorator to define routes and respective request methods.\n",
        "  - Routing simplifies how an application is organized and maintained for different functionalities.\n",
        "\n",
        "5. How do you create a simple Flask application?\n",
        "  - To build a basic Flask app, install Flask with `pip install flask` and write a Python file.\n",
        "  - Import Flask, create an app with `app = Flask(__name__)`, and define a route with `@app.route(\"/\")` containing a function that returns a response.\n",
        "  - Start the application with `app.run(debug=True)`, and access it in a web browser or API client.\n",
        "  - This is the most basic setup for handling HTTP requests and sending responses.\n",
        "\n",
        "6. What are HTTP methods used in RESTful APIs?\n",
        "  - RESTful APIs employ standard HTTP methods to access resources.\n",
        "  - The most common methods are `GET` (read data), `POST` (create a new resource), `PUT` (modify an existing resource), and `DELETE` (delete a resource).\n",
        "  - There are also `PATCH` (partial updates) and `OPTIONS` (read supported HTTP methods for a resource).\n",
        "  - These methods provide a well-structured and consistent means to execute CRUD operations.\n",
        "\n",
        "7. What is the purpose of the @app.route() decorator in Flask?\n",
        "  - The `@app.route()` decorator in Flask specifies URL routes and maps them to particular functions.\n",
        "  - It routes a URL endpoint to a Python function, which can process requests made to that URL.\n",
        "  - Developers can define HTTP methods inside the decorator, for example, `@app.route('/users', methods=['GET', 'POST'])`.\n",
        "  - This makes it easy to handle multiple routes in a Flask application.\n",
        "\n",
        "8.  What is the difference between GET and POST HTTP methods?\n",
        "  - `GET` is employed to fetch data from a server without changing server resources.\n",
        "  - `POST` is employed to submit data to a server for the creation of a new resource.\n",
        "  - `GET` requests are cached and idempotent, while `POST` requests typically alter the server state and cannot be cached.\n",
        "  - `GET` parameters are included in the URL, but `POST` data are included in the body of the request.\n",
        "\n",
        "9. How do you handle errors in Flask APIs?\n",
        "  - Flask offers error handling through the `@app.errorhandler()` decorator to trap particular HTTP errors such as `404 Not Found` or `500 Internal Server Error`.\n",
        "  - Programmers can return JSON responses with proper status codes and messages for improved debugging.\n",
        "  - Flask also supports `abort()` internally to return error responses when necessary.\n",
        "  - Error handling enhances user experience and API stability.\n",
        "\n",
        "10. How do you connect Flask to a SQL database?\n",
        "  - Flask links to SQL databases through libraries such as Flask-SQLAlchemy, which offers an Object-Relational Mapping interface.\n",
        "  - Install SQLAlchemy with `pip install flask-sqlalchemy` and set the database URI in Flask's configuration.\n",
        "  - Initialize the database with `db = SQLAlchemy(app)`, declare models, and use `db.create_all()` to create tables.\n",
        "  - This method makes database interactions easier in Flask applications.\n",
        "\n",
        "11. What is the role of Flask-SQLAlchemy?\n",
        "  - Flask-SQLAlchemy is an add-on that bridges SQLAlchemy, a robust ORM, with Flask apps.\n",
        "  - It makes database interactions easier by enabling developers to declare models in terms of Python classes rather than using raw SQL queries.\n",
        "  - Flask-SQLAlchemy also manages database sessions and connections effectively.\n",
        "  - It supports a variety of database backends such as SQLite, PostgreSQL, and MySQL.\n",
        "\n",
        "12. What are Flask blueprints, and how are they useful?\n",
        "  - Flask blueprints enable an application to be modularized by defining related routes and functionality within isolated modules.\n",
        "  - They assist in keeping large applications well-organized through the isolation of routes, views, and templates.\n",
        "  - Blueprints are registered onto the core Flask app through `app.register_blueprint()`, hence making different parts easy to control.\n",
        "  - This makes code reusable and easier to maintain.\n",
        "\n",
        "13. What is the purpose of Flask's request object?\n",
        "  - Flask's `request` object gives access to HTTP request data, such as form data, query parameters, headers, and JSON payloads.\n",
        "  - It supports receiving client data sent through mechanisms like `request.args` for query parameters and `request.json` for JSON payloads.\n",
        "  - The request object also gives data on the request method (`GET`, `POST`, etc.).\n",
        "  - It is important in processing incoming API requests.\n",
        "\n",
        "14. How do you create a RESTful API endpoint using Flask?\n",
        "  - To make a RESTful API endpoint, declare a route with `@app.route('/endpoint', methods=['GET', 'POST'])`.\n",
        "  - Code a function to handle various request methods, parse input data, and return JSON responses.\n",
        "  - Employ Flask's `jsonify()` to nicely format responses.\n",
        "  - This enables clients to communicate with the API effectively with standard HTTP methods.\n",
        "\n",
        "15. What is the purpose of Flask's jsonify() function?\n",
        "  - The Flask `jsonify()` function serializes Python dictionaries or lists into HTTP responses formatted as JSON.\n",
        "  - It sets the `Content-Type` header to `application/json` automatically.\n",
        "  - This is used for serialization of data when it is sent back as API responses.\n",
        "  - Handling JSON responses in Flask applications becomes easier using `jsonify()`.\n",
        "\n",
        "16. Explain Flask’s url_for() function.\n",
        "  - The `url_for()` function dynamically creates URLs based on the function name rather than hardcoding them.\n",
        "  - It prevents route changes from breaking links by automatically resolving the right URL.\n",
        "  - Developers can also provide arguments to create URLs with query parameters.\n",
        "  - This makes maintainability and flexibility in Flask applications better.\n",
        "\n",
        "17. How does Flask handle static files (CSS, JavaScript, etc.)?\n",
        "  - Flask hosts static files from the `static` directory by default.\n",
        "  - The `url_for('static', filename='style.css')` function returns URLs for static assets.\n",
        "  - Developers put CSS, JavaScript, and image files in the `static` directory for convenient access.\n",
        "  - This organizes and serves frontend resources in an efficient manner.\n",
        "\n",
        "18. What is an API specification, and how does it help in building a Flask API?\n",
        "  - An API specification describes how an API operates, such as endpoints, data formats, authentication, and error handling.\n",
        "  - It is a reference for developers creating and using the API.\n",
        "  - Formats such as OpenAPI offer interactive documentation and testing capabilities.\n",
        "  - A documented API enhances consistency, maintainability, and collaboration.\n",
        "\n",
        "19. What are HTTP status codes, and why are they important in a Flask API?\n",
        "  - HTTP status codes convey the outcome of a client request, for example, `200 OK`, `400 Bad Request`, and `404 Not Found`.\n",
        "  - Status codes give a concise message of whether a request was successful or failed.\n",
        "  - Utilization of status codes appropriately enhances API reliability and debugging.\n",
        "  - Status codes assist clients in dealing with responses appropriately based on success or failure.\n",
        "\n",
        "20. How do you handle POST requests in Flask?\n",
        "  - To process POST requests, specify a route with `methods=['POST']` and retrieve request data using `request.json` or `request.form`.\n",
        "  - Validate the input data prior to processing.\n",
        "  - Return a JSON response using `jsonify()` with a suitable status code.\n",
        "  - This provides secure and structured data processing.\n",
        "\n",
        "21. How would you secure a Flask API?\n",
        "  - Security features cover authentication, input sanitizing, rate limiting, and HTTPS requiring.\n",
        "  - Flask extensions such as Flask-JWT or Flask-Login assist in handling authentication.\n",
        "  - Defense against SQL injection and cross-site scripting is essential.\n",
        "  - API key or token-based authentication adds additional security.\n",
        "\n",
        "22. What is the significance of the Flask-RESTful extension?\n",
        "  - Flask-RESTful makes it easy to create REST APIs by having tools for input parsing, serialization, and management of resources.\n",
        "  - It organizes API endpoints using class-based views.\n",
        "  - It even has support for automatic input validation and response encoding.\n",
        "  - This ensures that RESTful API creation becomes more efficient.\n",
        "\n",
        "23.  What is the role of Flask’s session object?\n",
        "  - Flask's `session` object retains user information between requests via cookies.\n",
        "  - It supports functionality such as user authentication and state persistence.\n",
        "  - Data is kept safe with a secret key for encryption.\n",
        "  - The session object prevents user-specific information from being database-dependent."
      ],
      "metadata": {
        "id": "xWTWfkNVhqDc"
      }
    },
    {
      "cell_type": "markdown",
      "source": [
        "# Practicle Questions"
      ],
      "metadata": {
        "id": "f65yYuQcnidD"
      }
    },
    {
      "cell_type": "code",
      "source": [
        "# 1. How do you create a basic Flask application?\n",
        "from flask import Flask\n",
        "\n",
        "app = Flask(__name__)\n",
        "\n",
        "@app.route('/')\n",
        "def home():\n",
        "    return \"Hello, Flask!\"\n",
        "\n",
        "if __name__ == '__main__':\n",
        "    app.run(debug=True)"
      ],
      "metadata": {
        "colab": {
          "base_uri": "https://localhost:8080/"
        },
        "id": "h-7-CPQ_nnLy",
        "outputId": "75a7bfaf-bb7c-4886-ca2b-4adc5354eaa1"
      },
      "execution_count": null,
      "outputs": [
        {
          "output_type": "stream",
          "name": "stdout",
          "text": [
            " * Serving Flask app '__main__'\n",
            " * Debug mode: on\n"
          ]
        },
        {
          "output_type": "stream",
          "name": "stderr",
          "text": [
            "INFO:werkzeug:\u001b[31m\u001b[1mWARNING: This is a development server. Do not use it in a production deployment. Use a production WSGI server instead.\u001b[0m\n",
            " * Running on http://127.0.0.1:5000\n",
            "INFO:werkzeug:\u001b[33mPress CTRL+C to quit\u001b[0m\n",
            "INFO:werkzeug: * Restarting with stat\n"
          ]
        }
      ]
    },
    {
      "cell_type": "code",
      "source": [
        "# 2. How do you serve static files like images or CSS in Flask?\n",
        "from flask import Flask\n",
        "\n",
        "app = Flask(__name__, static_folder='static')\n",
        "\n",
        "@app.route('/')\n",
        "def home():\n",
        "    return '<img src=\"/static/image.jpg\">'\n",
        "\n",
        "if __name__ == '__main__':\n",
        "    app.run(debug=True)\n"
      ],
      "metadata": {
        "colab": {
          "base_uri": "https://localhost:8080/"
        },
        "id": "a2LNlPTvorIO",
        "outputId": "10b229c5-538d-4504-83ec-b2c6d46a7b34"
      },
      "execution_count": null,
      "outputs": [
        {
          "output_type": "stream",
          "name": "stdout",
          "text": [
            " * Serving Flask app '__main__'\n",
            " * Debug mode: on\n"
          ]
        },
        {
          "output_type": "stream",
          "name": "stderr",
          "text": [
            "INFO:werkzeug:\u001b[31m\u001b[1mWARNING: This is a development server. Do not use it in a production deployment. Use a production WSGI server instead.\u001b[0m\n",
            " * Running on http://127.0.0.1:5000\n",
            "INFO:werkzeug:\u001b[33mPress CTRL+C to quit\u001b[0m\n",
            "INFO:werkzeug: * Restarting with stat\n"
          ]
        }
      ]
    },
    {
      "cell_type": "code",
      "source": [
        "# 3. How do you define different routes with different HTTP methods in Flask?\n",
        "from flask import Flask, request\n",
        "\n",
        "app = Flask(__name__)\n",
        "\n",
        "@app.route('/submit', methods=['GET', 'POST'])\n",
        "def submit():\n",
        "    if request.method == 'POST':\n",
        "        return \"POST request received\"\n",
        "    return \"GET request received\"\n",
        "\n",
        "if __name__ == '__main__':\n",
        "    app.run(debug=True)"
      ],
      "metadata": {
        "colab": {
          "base_uri": "https://localhost:8080/"
        },
        "id": "gsJ6zYHJopfb",
        "outputId": "fa81edee-0e5d-44d7-abd6-44af3675e180"
      },
      "execution_count": null,
      "outputs": [
        {
          "output_type": "stream",
          "name": "stdout",
          "text": [
            " * Serving Flask app '__main__'\n",
            " * Debug mode: on\n"
          ]
        },
        {
          "output_type": "stream",
          "name": "stderr",
          "text": [
            "INFO:werkzeug:\u001b[31m\u001b[1mWARNING: This is a development server. Do not use it in a production deployment. Use a production WSGI server instead.\u001b[0m\n",
            " * Running on http://127.0.0.1:5000\n",
            "INFO:werkzeug:\u001b[33mPress CTRL+C to quit\u001b[0m\n",
            "INFO:werkzeug: * Restarting with stat\n"
          ]
        }
      ]
    },
    {
      "cell_type": "code",
      "source": [
        "# 4. How do you render HTML templates in Flask?\n",
        "from flask import Flask, render_template\n",
        "\n",
        "app = Flask(__name__)\n",
        "\n",
        "@app.route('/')\n",
        "def home():\n",
        "    return render_template('index.html')\n",
        "\n",
        "if __name__ == '__main__':\n",
        "    app.run(debug=True)"
      ],
      "metadata": {
        "colab": {
          "base_uri": "https://localhost:8080/"
        },
        "id": "moqY6VhtolrP",
        "outputId": "2773be5a-9e68-46a6-f8e4-8fb9eb60dc69"
      },
      "execution_count": null,
      "outputs": [
        {
          "output_type": "stream",
          "name": "stdout",
          "text": [
            " * Serving Flask app '__main__'\n",
            " * Debug mode: on\n"
          ]
        },
        {
          "output_type": "stream",
          "name": "stderr",
          "text": [
            "INFO:werkzeug:\u001b[31m\u001b[1mWARNING: This is a development server. Do not use it in a production deployment. Use a production WSGI server instead.\u001b[0m\n",
            " * Running on http://127.0.0.1:5000\n",
            "INFO:werkzeug:\u001b[33mPress CTRL+C to quit\u001b[0m\n",
            "INFO:werkzeug: * Restarting with stat\n"
          ]
        }
      ]
    },
    {
      "cell_type": "code",
      "source": [
        "# 5. How can you generate URLs for routes in Flask using url_for?\n",
        "from flask import Flask, url_for\n",
        "\n",
        "app = Flask(__name__)\n",
        "\n",
        "@app.route('/')\n",
        "def home():\n",
        "    return f\"Go to <a href='{url_for('about')}'>About</a> page\"\n",
        "\n",
        "@app.route('/about')\n",
        "def about():\n",
        "    return \"This is the about page\"\n",
        "\n",
        "if __name__ == '__main__':\n",
        "    app.run(debug=True)\n"
      ],
      "metadata": {
        "colab": {
          "base_uri": "https://localhost:8080/"
        },
        "id": "hUGNcwvGolBC",
        "outputId": "912e066a-a3d3-4b3b-f114-b4790108d5c8"
      },
      "execution_count": null,
      "outputs": [
        {
          "output_type": "stream",
          "name": "stdout",
          "text": [
            " * Serving Flask app '__main__'\n",
            " * Debug mode: on\n"
          ]
        },
        {
          "output_type": "stream",
          "name": "stderr",
          "text": [
            "INFO:werkzeug:\u001b[31m\u001b[1mWARNING: This is a development server. Do not use it in a production deployment. Use a production WSGI server instead.\u001b[0m\n",
            " * Running on http://127.0.0.1:5000\n",
            "INFO:werkzeug:\u001b[33mPress CTRL+C to quit\u001b[0m\n",
            "INFO:werkzeug: * Restarting with stat\n"
          ]
        }
      ]
    },
    {
      "cell_type": "code",
      "source": [
        "# 6. How do you handle forms in Flask?\n",
        "from flask import Flask, request, render_template\n",
        "\n",
        "app = Flask(__name__)\n",
        "\n",
        "@app.route('/', methods=['GET', 'POST'])\n",
        "def form():\n",
        "    if request.method == 'POST':\n",
        "        name = request.form['name']\n",
        "        return f\"Hello, {name}!\"\n",
        "    return render_template('form.html')\n",
        "\n",
        "if __name__ == '__main__':\n",
        "    app.run(debug=True)\n"
      ],
      "metadata": {
        "colab": {
          "base_uri": "https://localhost:8080/"
        },
        "id": "2Pps-NHIohr3",
        "outputId": "25b750d8-7c6a-4237-b475-3071d42601d3"
      },
      "execution_count": null,
      "outputs": [
        {
          "output_type": "stream",
          "name": "stdout",
          "text": [
            " * Serving Flask app '__main__'\n",
            " * Debug mode: on\n"
          ]
        },
        {
          "output_type": "stream",
          "name": "stderr",
          "text": [
            "INFO:werkzeug:\u001b[31m\u001b[1mWARNING: This is a development server. Do not use it in a production deployment. Use a production WSGI server instead.\u001b[0m\n",
            " * Running on http://127.0.0.1:5000\n",
            "INFO:werkzeug:\u001b[33mPress CTRL+C to quit\u001b[0m\n",
            "INFO:werkzeug: * Restarting with stat\n"
          ]
        }
      ]
    },
    {
      "cell_type": "code",
      "source": [
        "!pip install wtforms\n"
      ],
      "metadata": {
        "colab": {
          "base_uri": "https://localhost:8080/"
        },
        "id": "N0lUTU0Sv0Cv",
        "outputId": "417d7142-a3e4-4210-ffbb-bf343d8d211d"
      },
      "execution_count": null,
      "outputs": [
        {
          "output_type": "stream",
          "name": "stdout",
          "text": [
            "Collecting wtforms\n",
            "  Downloading wtforms-3.2.1-py3-none-any.whl.metadata (5.3 kB)\n",
            "Requirement already satisfied: markupsafe in /usr/local/lib/python3.11/dist-packages (from wtforms) (3.0.2)\n",
            "Downloading wtforms-3.2.1-py3-none-any.whl (152 kB)\n",
            "\u001b[2K   \u001b[90m━━━━━━━━━━━━━━━━━━━━━━━━━━━━━━━━━━━━━━━━\u001b[0m \u001b[32m152.5/152.5 kB\u001b[0m \u001b[31m3.4 MB/s\u001b[0m eta \u001b[36m0:00:00\u001b[0m\n",
            "\u001b[?25hInstalling collected packages: wtforms\n",
            "Successfully installed wtforms-3.2.1\n"
          ]
        }
      ]
    },
    {
      "cell_type": "code",
      "source": [
        "# 7. How can you validate form data in Flask?\n",
        "from flask import Flask, request\n",
        "from wtforms import Form, StringField, validators\n",
        "\n",
        "app = Flask(__name__)\n",
        "\n",
        "class MyForm(Form):\n",
        "    name = StringField('Name', [validators.Length(min=2, max=20)])\n",
        "\n",
        "@app.route('/', methods=['GET', 'POST'])\n",
        "def validate_form():\n",
        "    form = MyForm(request.form)\n",
        "    if request.method == 'POST' and form.validate():\n",
        "        return f\"Hello, {form.name.data}!\"\n",
        "    return \"Invalid input!\"\n",
        "\n",
        "if __name__ == '__main__':\n",
        "    app.run(debug=True)"
      ],
      "metadata": {
        "colab": {
          "base_uri": "https://localhost:8080/"
        },
        "id": "lsuHBMC6oeyS",
        "outputId": "a77bff70-2373-4491-e683-750c882c66a0"
      },
      "execution_count": null,
      "outputs": [
        {
          "output_type": "stream",
          "name": "stdout",
          "text": [
            " * Serving Flask app '__main__'\n",
            " * Debug mode: on\n"
          ]
        },
        {
          "output_type": "stream",
          "name": "stderr",
          "text": [
            "INFO:werkzeug:\u001b[31m\u001b[1mWARNING: This is a development server. Do not use it in a production deployment. Use a production WSGI server instead.\u001b[0m\n",
            " * Running on http://127.0.0.1:5000\n",
            "INFO:werkzeug:\u001b[33mPress CTRL+C to quit\u001b[0m\n",
            "INFO:werkzeug: * Restarting with stat\n"
          ]
        }
      ]
    },
    {
      "cell_type": "code",
      "source": [
        "# 8. How do you manage sessions in Flask?\n",
        "from flask import Flask, session\n",
        "\n",
        "app = Flask(__name__)\n",
        "app.secret_key = 'secret'\n",
        "\n",
        "@app.route('/')\n",
        "def set_session():\n",
        "    session['user'] = 'John'\n",
        "    return \"Session set\"\n",
        "\n",
        "@app.route('/get')\n",
        "def get_session():\n",
        "    return session.get('user', 'No session')\n",
        "\n",
        "if __name__ == '__main__':\n",
        "    app.run(debug=True)"
      ],
      "metadata": {
        "colab": {
          "base_uri": "https://localhost:8080/"
        },
        "id": "xPdvLXBXocGS",
        "outputId": "0532f37c-163c-4c0c-af84-e21bc707c218"
      },
      "execution_count": null,
      "outputs": [
        {
          "output_type": "stream",
          "name": "stdout",
          "text": [
            " * Serving Flask app '__main__'\n",
            " * Debug mode: on\n"
          ]
        },
        {
          "output_type": "stream",
          "name": "stderr",
          "text": [
            "INFO:werkzeug:\u001b[31m\u001b[1mWARNING: This is a development server. Do not use it in a production deployment. Use a production WSGI server instead.\u001b[0m\n",
            " * Running on http://127.0.0.1:5000\n",
            "INFO:werkzeug:\u001b[33mPress CTRL+C to quit\u001b[0m\n",
            "INFO:werkzeug: * Restarting with stat\n"
          ]
        }
      ]
    },
    {
      "cell_type": "code",
      "source": [
        "# 9. How do you redirect to a different route in Flask?\n",
        "from flask import Flask, redirect, url_for\n",
        "\n",
        "app = Flask(__name__)\n",
        "\n",
        "@app.route('/')\n",
        "def home():\n",
        "    return redirect(url_for('welcome'))\n",
        "\n",
        "@app.route('/welcome')\n",
        "def welcome():\n",
        "    return \"Welcome!\"\n",
        "\n",
        "if __name__ == '__main__':\n",
        "    app.run(debug=True)\n"
      ],
      "metadata": {
        "colab": {
          "base_uri": "https://localhost:8080/"
        },
        "id": "h6OYbhx5oaeB",
        "outputId": "a20affac-aa13-4c45-a154-d15196b50335"
      },
      "execution_count": null,
      "outputs": [
        {
          "output_type": "stream",
          "name": "stdout",
          "text": [
            " * Serving Flask app '__main__'\n",
            " * Debug mode: on\n"
          ]
        },
        {
          "output_type": "stream",
          "name": "stderr",
          "text": [
            "INFO:werkzeug:\u001b[31m\u001b[1mWARNING: This is a development server. Do not use it in a production deployment. Use a production WSGI server instead.\u001b[0m\n",
            " * Running on http://127.0.0.1:5000\n",
            "INFO:werkzeug:\u001b[33mPress CTRL+C to quit\u001b[0m\n",
            "INFO:werkzeug: * Restarting with stat\n"
          ]
        }
      ]
    },
    {
      "cell_type": "code",
      "source": [
        "# 10. How do you handle errors in Flask (e.g., 404)?\n",
        "from flask import Flask\n",
        "\n",
        "app = Flask(__name__)\n",
        "\n",
        "@app.errorhandler(404)\n",
        "def not_found(e):\n",
        "    return \"Page not found!\", 404\n",
        "\n",
        "if __name__ == '__main__':\n",
        "    app.run(debug=True)"
      ],
      "metadata": {
        "colab": {
          "base_uri": "https://localhost:8080/"
        },
        "id": "DU7kkG7moXpt",
        "outputId": "d7a701e2-0b54-408e-8a62-ffb9693d5fdb"
      },
      "execution_count": null,
      "outputs": [
        {
          "output_type": "stream",
          "name": "stdout",
          "text": [
            " * Serving Flask app '__main__'\n",
            " * Debug mode: on\n"
          ]
        },
        {
          "output_type": "stream",
          "name": "stderr",
          "text": [
            "INFO:werkzeug:\u001b[31m\u001b[1mWARNING: This is a development server. Do not use it in a production deployment. Use a production WSGI server instead.\u001b[0m\n",
            " * Running on http://127.0.0.1:5000\n",
            "INFO:werkzeug:\u001b[33mPress CTRL+C to quit\u001b[0m\n",
            "INFO:werkzeug: * Restarting with stat\n"
          ]
        }
      ]
    },
    {
      "cell_type": "code",
      "source": [
        "# 11. How do you structure a Flask app using Blueprints?\n",
        "from flask import Flask, Blueprint\n",
        "\n",
        "app = Flask(__name__)\n",
        "main = Blueprint('main', __name__)\n",
        "\n",
        "@main.route('/')\n",
        "def home():\n",
        "    return \"Hello from Blueprint!\"\n",
        "\n",
        "app.register_blueprint(main)\n",
        "\n",
        "if __name__ == '__main__':\n",
        "    app.run(debug=True)"
      ],
      "metadata": {
        "colab": {
          "base_uri": "https://localhost:8080/"
        },
        "id": "g8UZ5eRgoVwG",
        "outputId": "6046900d-0856-4b56-800c-25fbf0e11053"
      },
      "execution_count": null,
      "outputs": [
        {
          "output_type": "stream",
          "name": "stdout",
          "text": [
            " * Serving Flask app '__main__'\n",
            " * Debug mode: on\n"
          ]
        },
        {
          "output_type": "stream",
          "name": "stderr",
          "text": [
            "INFO:werkzeug:\u001b[31m\u001b[1mWARNING: This is a development server. Do not use it in a production deployment. Use a production WSGI server instead.\u001b[0m\n",
            " * Running on http://127.0.0.1:5000\n",
            "INFO:werkzeug:\u001b[33mPress CTRL+C to quit\u001b[0m\n",
            "INFO:werkzeug: * Restarting with stat\n"
          ]
        }
      ]
    },
    {
      "cell_type": "code",
      "source": [
        "# 12. How do you define a custom Jinja filter in Flask?\n",
        "from flask import Flask, render_template_string\n",
        "\n",
        "app = Flask(__name__)\n",
        "\n",
        "@app.template_filter('reverse')\n",
        "def reverse_filter(s):\n",
        "    return s[::-1]\n",
        "\n",
        "@app.route('/')\n",
        "def home():\n",
        "    return render_template_string(\"{{ 'hello' | reverse }}\")\n",
        "\n",
        "if __name__ == '__main__':\n",
        "    app.run(debug=True)"
      ],
      "metadata": {
        "colab": {
          "base_uri": "https://localhost:8080/"
        },
        "id": "Kdf54inBoTvA",
        "outputId": "34d12993-7bc0-4488-ba27-7b0bf7231ce2"
      },
      "execution_count": null,
      "outputs": [
        {
          "output_type": "stream",
          "name": "stdout",
          "text": [
            " * Serving Flask app '__main__'\n",
            " * Debug mode: on\n"
          ]
        },
        {
          "output_type": "stream",
          "name": "stderr",
          "text": [
            "INFO:werkzeug:\u001b[31m\u001b[1mWARNING: This is a development server. Do not use it in a production deployment. Use a production WSGI server instead.\u001b[0m\n",
            " * Running on http://127.0.0.1:5000\n",
            "INFO:werkzeug:\u001b[33mPress CTRL+C to quit\u001b[0m\n",
            "INFO:werkzeug: * Restarting with stat\n"
          ]
        }
      ]
    },
    {
      "cell_type": "code",
      "source": [
        "# 13. How can you redirect with query parameters in Flask?\n",
        "from flask import Flask, redirect, url_for, request\n",
        "\n",
        "app = Flask(__name__)\n",
        "\n",
        "@app.route('/')\n",
        "def home():\n",
        "    return redirect(url_for('destination', name='John'))\n",
        "\n",
        "@app.route('/destination')\n",
        "def destination():\n",
        "    name = request.args.get('name', 'Guest')\n",
        "    return f\"Hello, {name}!\"\n",
        "\n",
        "if __name__ == '__main__':\n",
        "    app.run(debug=True)"
      ],
      "metadata": {
        "colab": {
          "base_uri": "https://localhost:8080/"
        },
        "id": "8VeQ5DXVoRt2",
        "outputId": "d22c8bae-66c2-494d-c31c-dd907f792a0f"
      },
      "execution_count": null,
      "outputs": [
        {
          "output_type": "stream",
          "name": "stdout",
          "text": [
            " * Serving Flask app '__main__'\n",
            " * Debug mode: on\n"
          ]
        },
        {
          "output_type": "stream",
          "name": "stderr",
          "text": [
            "INFO:werkzeug:\u001b[31m\u001b[1mWARNING: This is a development server. Do not use it in a production deployment. Use a production WSGI server instead.\u001b[0m\n",
            " * Running on http://127.0.0.1:5000\n",
            "INFO:werkzeug:\u001b[33mPress CTRL+C to quit\u001b[0m\n",
            "INFO:werkzeug: * Restarting with stat\n"
          ]
        }
      ]
    },
    {
      "cell_type": "code",
      "source": [
        "# 14. How do you return JSON responses in Flask?\n",
        "from flask import Flask, jsonify\n",
        "\n",
        "app = Flask(__name__)\n",
        "\n",
        "@app.route('/json')\n",
        "def json_response():\n",
        "    return jsonify(message=\"Hello, JSON!\", status=200)\n",
        "\n",
        "if __name__ == '__main__':\n",
        "    app.run(debug=True)"
      ],
      "metadata": {
        "colab": {
          "base_uri": "https://localhost:8080/"
        },
        "id": "PpxsykXgoQa_",
        "outputId": "9edce838-34a2-4940-9e07-544c31ce7ef0"
      },
      "execution_count": null,
      "outputs": [
        {
          "output_type": "stream",
          "name": "stdout",
          "text": [
            " * Serving Flask app '__main__'\n",
            " * Debug mode: on\n"
          ]
        },
        {
          "output_type": "stream",
          "name": "stderr",
          "text": [
            "INFO:werkzeug:\u001b[31m\u001b[1mWARNING: This is a development server. Do not use it in a production deployment. Use a production WSGI server instead.\u001b[0m\n",
            " * Running on http://127.0.0.1:5000\n",
            "INFO:werkzeug:\u001b[33mPress CTRL+C to quit\u001b[0m\n",
            "INFO:werkzeug: * Restarting with stat\n"
          ]
        }
      ]
    },
    {
      "cell_type": "code",
      "source": [
        "# 15. How do you capture URL parameters in Flask?\n",
        "from flask import Flask\n",
        "\n",
        "app = Flask(__name__)\n",
        "\n",
        "@app.route('/user/<string:name>')\n",
        "def user(name):\n",
        "    return f\"Hello, {name}!\"\n",
        "\n",
        "if __name__ == '__main__':\n",
        "    app.run(debug=True)\n"
      ],
      "metadata": {
        "colab": {
          "base_uri": "https://localhost:8080/"
        },
        "id": "R7dfFR5noOsB",
        "outputId": "bca8b402-86aa-4b7b-8193-4b6bb8f87c5f"
      },
      "execution_count": null,
      "outputs": [
        {
          "output_type": "stream",
          "name": "stdout",
          "text": [
            " * Serving Flask app '__main__'\n",
            " * Debug mode: on\n"
          ]
        },
        {
          "output_type": "stream",
          "name": "stderr",
          "text": [
            "INFO:werkzeug:\u001b[31m\u001b[1mWARNING: This is a development server. Do not use it in a production deployment. Use a production WSGI server instead.\u001b[0m\n",
            " * Running on http://127.0.0.1:5000\n",
            "INFO:werkzeug:\u001b[33mPress CTRL+C to quit\u001b[0m\n",
            "INFO:werkzeug: * Restarting with stat\n"
          ]
        }
      ]
    }
  ]
}